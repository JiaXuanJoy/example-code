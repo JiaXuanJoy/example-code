{
 "cells": [
  {
   "cell_type": "markdown",
   "id": "710e7d2b-2fb4-497f-8cd1-f6501eb84f89",
   "metadata": {},
   "source": [
    "## 3.5 字典的变种"
   ]
  },
  {
   "cell_type": "markdown",
   "id": "1ef5ea15-4e39-4e5a-befe-6a67895791f6",
   "metadata": {},
   "source": [
    "#### collections.OrderedDict  \n",
    "+ 这个类型在添加键的时候会保持顺序，因此键的迭代次序总是一致的。 OrderedDict 的 popitem 方法默认删除并返回的是字典里的最后一个元素，但是如 果像 my_odict.popitem(last=False) 这样调用它，那么它删除并返回第一个被 添加进去的元素。  \n",
    "\n",
    "#### collections.ChainMap\n",
    "+ 该类型可以容纳数个不同的映射对象，然后在进行键查找操作的时候，这些对象会 被当作一个整体被逐个查找，直到键被找到为止。这个功能在给有嵌套作用域的语言做 解释器的时候很有用，可以用一个映射对象来代表一个作用域的上下文。"
   ]
  },
  {
   "cell_type": "code",
   "execution_count": null,
   "id": "f2c6b7cc-8af5-478f-9995-b2b7a466efe7",
   "metadata": {},
   "outputs": [],
   "source": []
  }
 ],
 "metadata": {
  "kernelspec": {
   "display_name": "Python 3",
   "language": "python",
   "name": "python3"
  },
  "language_info": {
   "codemirror_mode": {
    "name": "ipython",
    "version": 3
   },
   "file_extension": ".py",
   "mimetype": "text/x-python",
   "name": "python",
   "nbconvert_exporter": "python",
   "pygments_lexer": "ipython3",
   "version": "3.8.8"
  }
 },
 "nbformat": 4,
 "nbformat_minor": 5
}
