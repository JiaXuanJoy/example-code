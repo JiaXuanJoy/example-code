{
 "cells": [
  {
   "cell_type": "markdown",
   "id": "4c613365-987c-4d4f-aa43-d2949ddca254",
   "metadata": {},
   "source": [
    "# 第 3 章 字典和集合  \n",
    "正是因为字典至关重要，Python 对它的实现做了高度优化，而散列表则是字典类型性能 出众的根本原因。  \n",
    "集合(set)的实现其实也依赖于散列表。"
   ]
  },
  {
   "cell_type": "markdown",
   "id": "729cdfe1-1cd7-411f-a7b3-830cf9184821",
   "metadata": {},
   "source": [
    "## 3.1 泛映射类型"
   ]
  },
  {
   "cell_type": "markdown",
   "id": "20532490-9d50-4b4a-ae54-99234102b436",
   "metadata": {},
   "source": [
    "collections.abc 模块中有 Mapping 和 MutableMapping 这两个抽象基类，它们的作用是为 dict 和其他类似的类型定义形式接口。  \n",
    "这些抽象基类的主要作用是作为形式化的文档，它们定义了构建一个映射类型所需要的最基本的接口。  \n",
    "然后它们还可以跟 isinstance 一起被用来判定某个数据是不是广义上的映射类型："
   ]
  },
  {
   "cell_type": "code",
   "execution_count": 5,
   "id": "c958d16b-6076-4e90-a1a5-7b27069e376e",
   "metadata": {},
   "outputs": [],
   "source": [
    "from collections import abc"
   ]
  },
  {
   "cell_type": "code",
   "execution_count": 6,
   "id": "1276d996-9817-43b0-82c5-a3864eb9f5c9",
   "metadata": {},
   "outputs": [
    {
     "data": {
      "text/plain": [
       "True"
      ]
     },
     "execution_count": 6,
     "metadata": {},
     "output_type": "execute_result"
    }
   ],
   "source": [
    "my_dict = {}\n",
    "isinstance(my_dict, abc.Mapping)"
   ]
  },
  {
   "cell_type": "markdown",
   "id": "e43c9436-6a9f-4c35-a02d-29fb87dd541a",
   "metadata": {},
   "source": [
    "如果一个对象是可散列的，那么在这个对象的生命周期中，它的散列值是不变的，而且这个对象需要实现 __hash__() 方法。另外可散列对象还要有 __qe__() 方法，这样才能跟其他键做比较。如果两个可散列对象是相等的， 那么它们的散列值一定是一样的。"
   ]
  },
  {
   "cell_type": "code",
   "execution_count": 7,
   "id": "329be434-9bc1-4580-8792-6874c4e75898",
   "metadata": {},
   "outputs": [
    {
     "data": {
      "text/plain": [
       "-3907003130834322577"
      ]
     },
     "execution_count": 7,
     "metadata": {},
     "output_type": "execute_result"
    }
   ],
   "source": [
    "tt = (1, 2, (30, 40))\n",
    "hash(tt)"
   ]
  },
  {
   "cell_type": "code",
   "execution_count": 8,
   "id": "8c7bed19-b80c-4543-94cf-df86c61d4300",
   "metadata": {},
   "outputs": [
    {
     "ename": "TypeError",
     "evalue": "unhashable type: 'list'",
     "output_type": "error",
     "traceback": [
      "\u001b[0;31m---------------------------------------------------------------------------\u001b[0m",
      "\u001b[0;31mTypeError\u001b[0m                                 Traceback (most recent call last)",
      "\u001b[0;32m<ipython-input-8-258d676ca6dc>\u001b[0m in \u001b[0;36m<module>\u001b[0;34m\u001b[0m\n\u001b[1;32m      1\u001b[0m \u001b[0mtl\u001b[0m \u001b[0;34m=\u001b[0m \u001b[0;34m(\u001b[0m\u001b[0;36m1\u001b[0m\u001b[0;34m,\u001b[0m \u001b[0;36m2\u001b[0m\u001b[0;34m,\u001b[0m \u001b[0;34m[\u001b[0m\u001b[0;36m30\u001b[0m\u001b[0;34m,\u001b[0m \u001b[0;36m40\u001b[0m\u001b[0;34m]\u001b[0m\u001b[0;34m)\u001b[0m\u001b[0;34m\u001b[0m\u001b[0;34m\u001b[0m\u001b[0m\n\u001b[0;32m----> 2\u001b[0;31m \u001b[0mhash\u001b[0m\u001b[0;34m(\u001b[0m\u001b[0mtl\u001b[0m\u001b[0;34m)\u001b[0m\u001b[0;34m\u001b[0m\u001b[0;34m\u001b[0m\u001b[0m\n\u001b[0m",
      "\u001b[0;31mTypeError\u001b[0m: unhashable type: 'list'"
     ]
    }
   ],
   "source": [
    "tl = (1, 2, [30, 40])\n",
    "hash(tl)"
   ]
  },
  {
   "cell_type": "code",
   "execution_count": 9,
   "id": "086a698e-3cc0-45b3-b523-b59a5bd0782b",
   "metadata": {},
   "outputs": [
    {
     "data": {
      "text/plain": [
       "5149391500123939311"
      ]
     },
     "execution_count": 9,
     "metadata": {},
     "output_type": "execute_result"
    }
   ],
   "source": [
    "tf = (1, 2, frozenset([30, 40]))\n",
    "hash(tf)"
   ]
  },
  {
   "cell_type": "markdown",
   "id": "63520067-1675-414f-8b9a-86cd692ce21b",
   "metadata": {},
   "source": [
    "创建字典的不同方式"
   ]
  },
  {
   "cell_type": "code",
   "execution_count": 10,
   "id": "f89eb948-def0-4d49-8e02-9806e59f2411",
   "metadata": {},
   "outputs": [
    {
     "data": {
      "text/plain": [
       "True"
      ]
     },
     "execution_count": 10,
     "metadata": {},
     "output_type": "execute_result"
    }
   ],
   "source": [
    "a = dict(one=1, two=2, three=3)\n",
    "b = {'one': 1, 'two': 2, 'three': 3}\n",
    "c = dict(zip(['one', 'two', 'three'], [1, 2, 3]))\n",
    "d = dict([('two', 2), ('one', 1), ('three', 3)])\n",
    "e = dict({'three': 3, 'one': 1, 'two': 2})\n",
    "\n",
    "a == b == c == d == e"
   ]
  },
  {
   "cell_type": "markdown",
   "id": "3927019f-af43-4146-b7c2-8b8e1cc259c8",
   "metadata": {},
   "source": [
    "## 3.2 字典推导  \n",
    "字典推导(dictcomp)可以从任何以键值对作为元素的可迭代对象中构建出字典。"
   ]
  },
  {
   "cell_type": "code",
   "execution_count": 13,
   "id": "ca55be1e-18ec-47cb-adb3-50074c187622",
   "metadata": {},
   "outputs": [
    {
     "data": {
      "text/plain": [
       "{'China': 86,\n",
       " 'India': 91,\n",
       " 'United States': 1,\n",
       " 'Indonesia': 62,\n",
       " 'Brazil': 55,\n",
       " 'Pakistan': 92,\n",
       " 'Bangladesh': 880,\n",
       " 'Nigeria': 234,\n",
       " 'Russia': 7,\n",
       " 'Japan': 81}"
      ]
     },
     "execution_count": 13,
     "metadata": {},
     "output_type": "execute_result"
    }
   ],
   "source": [
    "DIAL_CODES = [\n",
    "        (86, 'China'),\n",
    "        (91, 'India'),\n",
    "        (1, 'United States'),\n",
    "        (62, 'Indonesia'),\n",
    "        (55, 'Brazil'),\n",
    "        (92, 'Pakistan'),\n",
    "        (880, 'Bangladesh'),\n",
    "        (234, 'Nigeria'),\n",
    "        (7, 'Russia'),\n",
    "        (81, 'Japan'),\n",
    "]\n",
    "country_code = {country : code for code, country in DIAL_CODES} # for 后面为内容，前面为 dict 的 key 和 value\n",
    "country_code"
   ]
  },
  {
   "cell_type": "code",
   "execution_count": 14,
   "id": "8eb9660a-0220-40ce-9ac4-42d8f7bc88ca",
   "metadata": {},
   "outputs": [
    {
     "data": {
      "text/plain": [
       "{1: 'UNITED STATES', 62: 'INDONESIA', 55: 'BRAZIL', 7: 'RUSSIA'}"
      ]
     },
     "execution_count": 14,
     "metadata": {},
     "output_type": "execute_result"
    }
   ],
   "source": [
    "{code : country.upper() for country, code in country_code.items() if code < 66}"
   ]
  },
  {
   "cell_type": "markdown",
   "id": "fc768ee7-64fc-475a-945f-029dc8157ea5",
   "metadata": {
    "slideshow": {
     "slide_type": "slide"
    },
    "tags": []
   },
   "source": [
    "## 3.3 常见的映射方法 —— 用setdefault处理找不到的键"
   ]
  },
  {
   "cell_type": "code",
   "execution_count": 39,
   "id": "086abca5-066d-4673-81b5-077f80fe7bec",
   "metadata": {
    "tags": []
   },
   "outputs": [
    {
     "name": "stdout",
     "output_type": "stream",
     "text": [
      "aaa [(1, 1), (1, 13)]\n",
      "bbb [(1, 5)]\n",
      "ccc [(1, 9)]\n",
      "ddd [(2, 1)]\n",
      "eee [(2, 5)]\n",
      "fff [(2, 9)]\n",
      "hello [(3, 1)]\n",
      "hey [(3, 10)]\n",
      "hi [(3, 7)]\n"
     ]
    }
   ],
   "source": [
    "\"\"\"创建一个从文件中找出单词到其出现位置的映射\n",
    "返回值为 单词 [(行数, 单词首字母在行内的位置)]\"\"\"\n",
    "\n",
    "\n",
    "import sys\n",
    "import re\n",
    "\n",
    "WORD_RE = re.compile(r'\\w+')  # 将正则表达式的样式编译为一个正则表达式对象（正则对象），可以用于匹配\n",
    "# \\w = [A-Za-z0-9_]\n",
    "\n",
    "index = {}\n",
    "with open('file_for_exp3_2.txt', encoding='utf-8') as fp:\n",
    "    for line_no, line in enumerate(fp, start = 1):\n",
    "        for match in WORD_RE.finditer(line):\n",
    "            word = match.group()  # 将 Match类对象转化为 str 对象\n",
    "            column_no = match.start()+1\n",
    "            location = (line_no, column_no)\n",
    "            # 这其实是一种很不好的实现，这样写只是为了证明论点 \n",
    "            occurrences = index.get(word, [])  # 去 index 字典中获取 word 对应的位置的列表，如果找不到，则返回一个空列表\n",
    "            occurrences.append(location)  # 将本次循环中找到的单词位置加入列表中\n",
    "            index[word] = occurrences  # 将新获得的位置信息赋值给 index[word]\n",
    "            \n",
    "# 以字母顺序打印出结果    \n",
    "for word in sorted(index, key=str.upper):\n",
    "    print(word, index[word])"
   ]
  },
  {
   "cell_type": "code",
   "execution_count": 40,
   "id": "af59937e-76fa-4cbb-ab36-eda5dc60fd2e",
   "metadata": {},
   "outputs": [
    {
     "name": "stdout",
     "output_type": "stream",
     "text": [
      "aaa [(1, 1), (1, 13)]\n",
      "bbb [(1, 5)]\n",
      "ccc [(1, 9)]\n",
      "ddd [(2, 1)]\n",
      "eee [(2, 5)]\n",
      "fff [(2, 9)]\n",
      "hello [(3, 1)]\n",
      "hey [(3, 10)]\n",
      "hi [(3, 7)]\n"
     ]
    }
   ],
   "source": [
    "import sys\n",
    "import re\n",
    "\n",
    "WORD_RE = re.compile(r'\\w+')\n",
    "\n",
    "index = {}\n",
    "with open('file_for_exp3_2.txt', encoding='utf-8') as fp:\n",
    "    for line_no, line in enumerate(fp, 1):\n",
    "        for match in WORD_RE.finditer(line):\n",
    "            word = match.group()\n",
    "            column_no = match.start()+1\n",
    "            location = (line_no, column_no) \n",
    "            index.setdefault(word, []).append(location)\n",
    "            \n",
    "# 以字母顺序打印出结果\n",
    "for word in sorted(index, key=str.upper):\n",
    "    print(word, index[word])"
   ]
  },
  {
   "cell_type": "markdown",
   "id": "b7353be4-7ec5-400f-a72f-dc710fc31f66",
   "metadata": {},
   "source": [
    "setdefault 函数的作用："
   ]
  },
  {
   "cell_type": "code",
   "execution_count": 43,
   "id": "f7d48339-3a02-46e4-8c1a-5648dd9cff9f",
   "metadata": {},
   "outputs": [],
   "source": [
    "my_dict = {}\n",
    "key = 'abc'\n",
    "new_value = 5"
   ]
  },
  {
   "cell_type": "code",
   "execution_count": 44,
   "id": "babf9d9f-4aac-4751-9216-c8fafed366e1",
   "metadata": {},
   "outputs": [
    {
     "data": {
      "text/plain": [
       "{'abc': [5]}"
      ]
     },
     "execution_count": 44,
     "metadata": {},
     "output_type": "execute_result"
    }
   ],
   "source": [
    "my_dict.setdefault(key, []).append(new_value)  \n",
    "\n",
    "my_dict"
   ]
  },
  {
   "cell_type": "markdown",
   "id": "1cb49d73-d69c-47a2-85fc-5e736a087d84",
   "metadata": {},
   "source": [
    "等价于  "
   ]
  },
  {
   "cell_type": "code",
   "execution_count": 45,
   "id": "0efb8285-6d8e-4428-98f6-329e8501d013",
   "metadata": {},
   "outputs": [
    {
     "data": {
      "text/plain": [
       "{'abc': [5, 5]}"
      ]
     },
     "execution_count": 45,
     "metadata": {},
     "output_type": "execute_result"
    }
   ],
   "source": [
    "if key not in my_dict:\n",
    "    my_dict[key] = []\n",
    "my_dict[key].append(new_value) \n",
    "\n",
    "my_dict"
   ]
  },
  {
   "cell_type": "markdown",
   "id": "ace327bb-9ba4-4747-a107-f0bc6e903a5a",
   "metadata": {},
   "source": [
    "note: enumerate(iterable, start=0)  \n",
    "返回一个枚举对象。iterable 必须是一个序列，或 iterator，或其他支持迭代的对象。   \n",
    "enumerate() 返回的迭代器的 \\_\\_next\\_\\_() 方法返回一个元组，里面包含一个计数值（从 start 开始，默认为 0）和通过迭代 iterable 获得的值。  "
   ]
  },
  {
   "cell_type": "code",
   "execution_count": 1,
   "id": "09b59b8f-a10b-4309-b99b-1d12e01e219f",
   "metadata": {},
   "outputs": [
    {
     "data": {
      "text/plain": [
       "[(0, 'Spring'), (1, 'Summer'), (2, 'Fall'), (3, 'Winter')]"
      ]
     },
     "execution_count": 1,
     "metadata": {},
     "output_type": "execute_result"
    }
   ],
   "source": [
    "seasons = ['Spring', 'Summer', 'Fall', 'Winter']\n",
    "list(enumerate(seasons))"
   ]
  },
  {
   "cell_type": "code",
   "execution_count": 2,
   "id": "23cdcb5d-0a46-434e-8b5a-c129a1ccfdd0",
   "metadata": {},
   "outputs": [
    {
     "data": {
      "text/plain": [
       "[(1, 'Spring'), (2, 'Summer'), (3, 'Fall'), (4, 'Winter')]"
      ]
     },
     "execution_count": 2,
     "metadata": {},
     "output_type": "execute_result"
    }
   ],
   "source": [
    "list(enumerate(seasons, start=1))"
   ]
  },
  {
   "cell_type": "markdown",
   "id": "97c10a0b-7686-4c81-90ed-7d184576f335",
   "metadata": {},
   "source": [
    "note: re.finditer(pattern, string, flags=0)  \n",
    "pattern 在 string 里所有的非重复匹配，返回为一个迭代器 iterator 保存了匹配对象。   \n",
    "string 从左到右扫描，匹配按顺序排列。空匹配也包含在结果里。"
   ]
  },
  {
   "cell_type": "code",
   "execution_count": 27,
   "id": "d6283fb4-922d-45ee-b67d-fc3d625ca8fc",
   "metadata": {},
   "outputs": [
    {
     "name": "stdout",
     "output_type": "stream",
     "text": [
      "String match \"a123b\" at 0:5\n",
      "String match \"c1c\" at 5:8\n",
      "String match \"d22d\" at 8:12\n"
     ]
    }
   ],
   "source": [
    "import re\n",
    "\n",
    "string = 'a123bc1cd22d23d'\n",
    "pattern = '[a-z]([0-9]*)[a-z]'\n",
    "for match in re.finditer(pattern, string):\n",
    "    #print(type(match))\n",
    "    s = match.start()\n",
    "    e = match.end()\n",
    "    print('String match \"%s\" at %d:%d' % (string[s:e], s, e))"
   ]
  },
  {
   "cell_type": "code",
   "execution_count": 28,
   "id": "50cf8975-041e-4177-9dc8-4a69e5d04018",
   "metadata": {},
   "outputs": [
    {
     "name": "stdout",
     "output_type": "stream",
     "text": [
      "String match \"a123b\" at 0:5\n",
      "String match \"c1c\" at 5:8\n",
      "String match \"d22d\" at 8:12\n"
     ]
    }
   ],
   "source": [
    "re_obj = re.compile(pattern)\n",
    "for match in re_obj.finditer(string):\n",
    "    s = match.start()\n",
    "    e = match.end()\n",
    "    print('String match \"%s\" at %d:%d' % (string[s:e], s, e))"
   ]
  },
  {
   "cell_type": "markdown",
   "id": "27bef5c3-f761-4122-97b8-32df561efa39",
   "metadata": {},
   "source": [
    "note: Match.group([group1, ...])  \n",
    "返回一个或者多个匹配的子组。  \n",
    "如果只有一个参数，结果就是一个字符串，如果有多个参数，结果就是一个元组（每个参数对应一个项），如果没有参数，组1默认到0（整个匹配都被返回）。"
   ]
  },
  {
   "cell_type": "code",
   "execution_count": 32,
   "id": "00053368-6038-499b-a80d-e427e0d92a1a",
   "metadata": {},
   "outputs": [
    {
     "data": {
      "text/plain": [
       "'Isaac Newton'"
      ]
     },
     "execution_count": 32,
     "metadata": {},
     "output_type": "execute_result"
    }
   ],
   "source": [
    "m = re.match(r\"(\\w+) (\\w+)\", \"Isaac Newton, physicist, Hello hhh\")\n",
    "m.group()"
   ]
  },
  {
   "cell_type": "code",
   "execution_count": 33,
   "id": "088370f6-25f9-4bc7-affe-25ecd19da1eb",
   "metadata": {},
   "outputs": [
    {
     "data": {
      "text/plain": [
       "'Isaac Newton'"
      ]
     },
     "execution_count": 33,
     "metadata": {},
     "output_type": "execute_result"
    }
   ],
   "source": [
    "m.group(0)       # The entire match"
   ]
  },
  {
   "cell_type": "code",
   "execution_count": 34,
   "id": "50bb708e-66c7-45ee-9079-82fa4f37639f",
   "metadata": {},
   "outputs": [
    {
     "data": {
      "text/plain": [
       "'Isaac'"
      ]
     },
     "execution_count": 34,
     "metadata": {},
     "output_type": "execute_result"
    }
   ],
   "source": [
    "m.group(1)       # The first parenthesized subgroup."
   ]
  },
  {
   "cell_type": "code",
   "execution_count": 35,
   "id": "a45df207-6d51-4fc8-a61f-21c2f8b7617a",
   "metadata": {},
   "outputs": [
    {
     "data": {
      "text/plain": [
       "'Newton'"
      ]
     },
     "execution_count": 35,
     "metadata": {},
     "output_type": "execute_result"
    }
   ],
   "source": [
    "m.group(2)       # The second parenthesized subgroup."
   ]
  },
  {
   "cell_type": "code",
   "execution_count": 25,
   "id": "36a7ba15-259e-423b-993c-f945b957f88a",
   "metadata": {},
   "outputs": [
    {
     "data": {
      "text/plain": [
       "('Isaac', 'Newton')"
      ]
     },
     "execution_count": 25,
     "metadata": {},
     "output_type": "execute_result"
    }
   ],
   "source": [
    "m.group(1, 2)    # Multiple arguments give us a tuple."
   ]
  },
  {
   "cell_type": "code",
   "execution_count": 31,
   "id": "856c39ea-e60a-4617-b2b8-ff7c414d095b",
   "metadata": {},
   "outputs": [
    {
     "name": "stdout",
     "output_type": "stream",
     "text": [
      "a123b\n",
      "c1c\n",
      "d22d\n",
      "word class :  <class 'str'>\n",
      "match class :  <class 're.Match'>\n"
     ]
    }
   ],
   "source": [
    "for match in re_obj.finditer(string):\n",
    "    word = match.group()\n",
    "    print(word)\n",
    "print(\"word class : \",type(word))\n",
    "print(\"match class : \", type(match))"
   ]
  },
  {
   "cell_type": "code",
   "execution_count": null,
   "id": "4b697571-0b52-42d3-b092-8720b72b560c",
   "metadata": {},
   "outputs": [],
   "source": []
  }
 ],
 "metadata": {
  "kernelspec": {
   "display_name": "Python 3",
   "language": "python",
   "name": "python3"
  },
  "language_info": {
   "codemirror_mode": {
    "name": "ipython",
    "version": 3
   },
   "file_extension": ".py",
   "mimetype": "text/x-python",
   "name": "python",
   "nbconvert_exporter": "python",
   "pygments_lexer": "ipython3",
   "version": "3.8.8"
  }
 },
 "nbformat": 4,
 "nbformat_minor": 5
}
